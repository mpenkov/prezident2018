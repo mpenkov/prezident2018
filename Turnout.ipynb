{
 "cells": [
  {
   "cell_type": "markdown",
   "metadata": {},
   "source": [
    "# Graphs Visualizing Election Turnout"
   ]
  },
  {
   "cell_type": "code",
   "execution_count": 1,
   "metadata": {},
   "outputs": [],
   "source": [
    "# Some initialization magic\n",
    "%matplotlib inline\n",
    "\n",
    "import matplotlib\n",
    "import numpy as np\n",
    "import matplotlib.pyplot as plt\n",
    "import collections\n",
    "\n",
    "# Let's load up the data\n",
    "import json\n",
    "import codecs\n",
    "import gzip\n",
    "\n",
    "with gzip.GzipFile(\"scrapyproject/results.json.gz\") as fin:\n",
    "    fin = codecs.getreader('utf-8')(fin)\n",
    "    tables = [json.loads(line) for line in fin]"
   ]
  },
  {
   "cell_type": "code",
   "execution_count": 2,
   "metadata": {},
   "outputs": [],
   "source": [
    "TIMES = ['10:00', '12:00', '15:00', '18:00']\n",
    "                \n",
    "def yield_turnout():\n",
    "    turnout = [t for t in tables if t['data_type'] == 'turnout_uik']\n",
    "    for table in turnout:\n",
    "        for i, (header, row) in enumerate(zip(table['row_headers'], table['data'])):\n",
    "            if i == 0:\n",
    "                # skip total row\n",
    "                continue\n",
    "            yield {'region': table['region'], 'territory': table['territory'],\n",
    "                   'polling_station': header, 'turnout': row, 'url': table['url']}"
   ]
  },
  {
   "cell_type": "code",
   "execution_count": 3,
   "metadata": {},
   "outputs": [
    {
     "name": "stdout",
     "output_type": "stream",
     "text": [
      "\n"
     ]
    },
    {
     "data": {
      "image/png": "[encoded data removed]",
      "text/plain": [
       "<Figure size 1152x432 with 1 Axes>"
      ]
     },
     "metadata": {},
     "output_type": "display_data"
    }
   ],
   "source": [
    "def calc_rounded_turnout(time):\n",
    "    if time not in TIMES:\n",
    "        raise ValueError\n",
    "    time_idx = TIMES.index(time)\n",
    "    rounded_percentages = [round(t['turnout'][time_idx], 0) for t in yield_turnout()]\n",
    "    return rounded_percentages\n",
    "\n",
    "plt.style.use('seaborn-deep')\n",
    "plt.rcParams[\"patch.force_edgecolor\"] = True\n",
    "plt.figure(figsize=(16, 6))\n",
    "plt.hist(calc_rounded_turnout('10:00'), 100, alpha=0.5, label='10:00 local time')\n",
    "plt.hist(calc_rounded_turnout('12:00'), 100, alpha=0.5, label='12:00 local time')\n",
    "plt.hist(calc_rounded_turnout('15:00'), 100, alpha=0.5, label='15:00 local time')\n",
    "plt.hist(calc_rounded_turnout('18:00'), 100, alpha=0.5, label='18:00 local time')\n",
    "plt.xlabel('Turnout, percent')\n",
    "plt.ylabel('Number of polling stations with this turnout')\n",
    "plt.legend()\n",
    "print()"
   ]
  },
  {
   "cell_type": "markdown",
   "metadata": {},
   "source": [
    "## Polling stations with 100% turnout\n",
    "\n",
    "A suprising number of polling station reported 100% turnout, even at 10:00am.\n",
    "What were they?"
   ]
  },
  {
   "cell_type": "code",
   "execution_count": 4,
   "metadata": {},
   "outputs": [
    {
     "data": {
      "text/plain": [
       "924"
      ]
     },
     "execution_count": 4,
     "metadata": {},
     "output_type": "execute_result"
    }
   ],
   "source": [
    "hundred_pct = sorted(['%(region)s / %(territory)s / %(polling_station)s' % t \n",
    "                      for t in yield_turnout() if t['turnout'][0] == 100])\n",
    "len(hundred_pct)"
   ]
  },
  {
   "cell_type": "code",
   "execution_count": 5,
   "metadata": {},
   "outputs": [
    {
     "data": {
      "text/plain": [
       "['Архангельская область / Архангельск, Южная / УИК №1000',\n",
       " 'Архангельская область / Архангельск, Южная / УИК №1001',\n",
       " 'Архангельская область / Архангельск, Южная / УИК №1002',\n",
       " 'Архангельская область / Архангельск, Южная / УИК №1003',\n",
       " 'Архангельская область / Архангельск, Южная / УИК №1004',\n",
       " 'Архангельская область / Архангельск, Южная / УИК №1005',\n",
       " 'Архангельская область / Архангельск, Южная / УИК №1006',\n",
       " 'Архангельская область / Архангельск, Южная / УИК №1007',\n",
       " 'Архангельская область / Архангельск, Южная / УИК №1008',\n",
       " 'Архангельская область / Архангельск, Южная / УИК №1009']"
      ]
     },
     "execution_count": 5,
     "metadata": {},
     "output_type": "execute_result"
    }
   ],
   "source": [
    "hundred_pct[:10]"
   ]
  },
  {
   "cell_type": "code",
   "execution_count": 6,
   "metadata": {},
   "outputs": [],
   "source": [
    "#\n",
    "# Let's have a look at how many people voted at these polling stations with 100% attendance\n",
    "# \n",
    "ROW_HEADERS = [t for t in tables if t[\"data_type\"] == \"results_uik\"][0]['row_headers']\n",
    "            \n",
    "turnout_dict = {}\n",
    "for d in yield_turnout():\n",
    "    key = (d['region'], d['territory'], d['polling_station'])\n",
    "    turnout_dict[key] = d['turnout']\n",
    "\n",
    "\n",
    "def yield_grouped():\n",
    "    results = [t for t in tables if t['data_type'] == 'results_uik']\n",
    "    for table in results:\n",
    "        assert table['row_headers'] == ROW_HEADERS\n",
    "        for column_number, column_name in enumerate(table['column_headers']):\n",
    "            if column_number == 0:\n",
    "                continue\n",
    "            key = (table['region'], table['territory'], column_name)\n",
    "            results = {dim: table['data'][row_number][column_number]\n",
    "                       for (row_number, dim) in enumerate(ROW_HEADERS)}\n",
    "            yield {\n",
    "                'region': table['region'], 'territory': table['territory'],\n",
    "                'polling_station': column_name, 'turnout': turnout_dict[key],\n",
    "                'results': results, 'url': table['url']\n",
    "            }\n",
    "            \n",
    "grouped = {'%(region)s / %(territory)s / %(polling_station)s' % d: d for d in yield_grouped()}"
   ]
  },
  {
   "cell_type": "code",
   "execution_count": 7,
   "metadata": {},
   "outputs": [
    {
     "data": {
      "text/plain": [
       "{'polling_station': 'УИК №873',\n",
       " 'region': 'Республика Бурятия',\n",
       " 'results': {'Бабурин Сергей Николаевич': 0.0,\n",
       "  'Грудинин Павел Николаевич': 4.0,\n",
       "  'Жириновский Владимир Вольфович': 2.0,\n",
       "  'Путин Владимир Владимирович': 36.0,\n",
       "  'Собчак Ксения Анатольевна': 0.0,\n",
       "  'Сурайкин Максим Александрович': 0.0,\n",
       "  'Титов Борис Юрьевич': 0.0,\n",
       "  'Число бюллетеней в стационарных ящиках для голосования': 42.0,\n",
       "  'Число действительных избирательных бюллетеней': 42.0,\n",
       "  'Число избирателей, включенных в список избирателей': 42.0,\n",
       "  'Число избирательных бюллетеней в переносных ящиках для голосования': 0.0,\n",
       "  'Число избирательных бюллетеней, выданных в помещении для голосования в день голосования': 42.0,\n",
       "  'Число избирательных бюллетеней, выданных вне помещения для голосования в день голосования': 0.0,\n",
       "  'Число избирательных бюллетеней, выданных избирателям, проголосовавшим досрочно': 0.0,\n",
       "  'Число избирательных бюллетеней, не учтенных при получении': 0.0,\n",
       "  'Число избирательных бюллетеней, полученных участковой избирательной комиссией': 43.0,\n",
       "  'Число недействительных избирательных бюллетеней': 0.0,\n",
       "  'Число погашенных избирательных бюллетеней': 1.0,\n",
       "  'Число утраченных избирательных бюллетеней': 0.0,\n",
       "  'Явлинский Григорий Алексеевич': 0.0},\n",
       " 'territory': 'Хоринская',\n",
       " 'turnout': [61.9, 73.81, 80.95, 95.24],\n",
       " 'url': 'http://www.vybory.izbirkom.ru/region/izbirkom?action=show&global=true&root=32000009&tvd=2032000809509&vrn=100100084849062&prver=0&pronetvd=null&region=4&sub_region=4&type=227&vibid=2032000809509'}"
      ]
     },
     "execution_count": 7,
     "metadata": {},
     "output_type": "execute_result"
    }
   ],
   "source": [
    "list(grouped.values())[2]"
   ]
  },
  {
   "cell_type": "code",
   "execution_count": 8,
   "metadata": {},
   "outputs": [
    {
     "name": "stdout",
     "output_type": "stream",
     "text": [
      "\n"
     ]
    },
    {
     "data": {
      "image/png": "[encoded data removed]",
      "text/plain": [
       "<Figure size 1152x432 with 1 Axes>"
      ]
     },
     "metadata": {},
     "output_type": "display_data"
    }
   ],
   "source": [
    "VALID_BALLOTS = 'Число действительных избирательных бюллетеней'\n",
    "voters = [grouped[key]['results'][VALID_BALLOTS] for key in hundred_pct]\n",
    "plt.figure(figsize=(16, 6))\n",
    "plt.hist(voters, bins=100)\n",
    "plt.xlabel('number of valid ballots')\n",
    "plt.ylabel('number of polling stations with 100% turnout at 10am')\n",
    "print()"
   ]
  },
  {
   "cell_type": "code",
   "execution_count": 9,
   "metadata": {},
   "outputs": [
    {
     "data": {
      "text/plain": [
       "[(12.0, 46),\n",
       " (19.0, 44),\n",
       " (24.0, 40),\n",
       " (11.0, 38),\n",
       " (13.0, 38),\n",
       " (14.0, 36),\n",
       " (27.0, 34),\n",
       " (18.0, 33),\n",
       " (10.0, 32),\n",
       " (29.0, 30)]"
      ]
     },
     "execution_count": 9,
     "metadata": {},
     "output_type": "execute_result"
    }
   ],
   "source": [
    "collections.Counter(voters).most_common(10)"
   ]
  },
  {
   "cell_type": "code",
   "execution_count": 10,
   "metadata": {},
   "outputs": [
    {
     "data": {
      "text/plain": [
       "[{'polling_station': 'УИК №1120',\n",
       "  'region': 'Брянская область',\n",
       "  'results': {'Бабурин Сергей Николаевич': 2.0,\n",
       "   'Грудинин Павел Николаевич': 44.0,\n",
       "   'Жириновский Владимир Вольфович': 35.0,\n",
       "   'Путин Владимир Владимирович': 1178.0,\n",
       "   'Собчак Ксения Анатольевна': 4.0,\n",
       "   'Сурайкин Максим Александрович': 5.0,\n",
       "   'Титов Борис Юрьевич': 1.0,\n",
       "   'Число бюллетеней в стационарных ящиках для голосования': 1280.0,\n",
       "   'Число действительных избирательных бюллетеней': 1273.0,\n",
       "   'Число избирателей, включенных в список избирателей': 1280.0,\n",
       "   'Число избирательных бюллетеней в переносных ящиках для голосования': 0.0,\n",
       "   'Число избирательных бюллетеней, выданных в помещении для голосования в день голосования': 1280.0,\n",
       "   'Число избирательных бюллетеней, выданных вне помещения для голосования в день голосования': 0.0,\n",
       "   'Число избирательных бюллетеней, выданных избирателям, проголосовавшим досрочно': 0.0,\n",
       "   'Число избирательных бюллетеней, не учтенных при получении': 0.0,\n",
       "   'Число избирательных бюллетеней, полученных участковой избирательной комиссией': 1300.0,\n",
       "   'Число недействительных избирательных бюллетеней': 7.0,\n",
       "   'Число погашенных избирательных бюллетеней': 20.0,\n",
       "   'Число утраченных избирательных бюллетеней': 0.0,\n",
       "   'Явлинский Григорий Алексеевич': 4.0},\n",
       "  'territory': 'Брянск, Бежицкая',\n",
       "  'turnout': [100.0, 100.0, 100.0, 100.0],\n",
       "  'url': 'http://www.vybory.izbirkom.ru/region/izbirkom?action=show&global=true&root=322000033&tvd=23220001090794&vrn=100100084849062&prver=0&pronetvd=null&region=32&sub_region=32&type=227&vibid=23220001090794'}]"
      ]
     },
     "execution_count": 10,
     "metadata": {},
     "output_type": "execute_result"
    }
   ],
   "source": [
    "early_bird = [st for st in list(grouped.values())\n",
    "              if st['turnout'][0] == 100 and st['results'][VALID_BALLOTS] > 1000]\n",
    "early_bird"
   ]
  }
 ],
 "metadata": {
  "kernelspec": {
   "display_name": "Python 3",
   "language": "python",
   "name": "python3"
  },
  "language_info": {
   "codemirror_mode": {
    "name": "ipython",
    "version": 3
   },
   "file_extension": ".py",
   "mimetype": "text/x-python",
   "name": "python",
   "nbconvert_exporter": "python",
   "pygments_lexer": "ipython3",
   "version": "3.6.4"
  }
 },
 "nbformat": 4,
 "nbformat_minor": 2
}
