{
 "cells": [
  {
   "cell_type": "markdown",
   "metadata": {},
   "source": [
    "# Introducing the Dataset"
   ]
  },
  {
   "cell_type": "code",
   "execution_count": 1,
   "metadata": {},
   "outputs": [],
   "source": [
    "# Some initialization magic\n",
    "%matplotlib inline\n",
    "\n",
    "import matplotlib\n",
    "import numpy as np\n",
    "import matplotlib.pyplot as plt\n",
    "import collections\n",
    "\n",
    "# Let's load up the data\n",
    "import json\n",
    "import gzip\n",
    "import codecs\n",
    "\n",
    "with gzip.GzipFile(\"scrapyproject/results.json.gz\") as fin:\n",
    "    fin = codecs.getreader('utf-8')(fin)\n",
    "    tables = [json.loads(line) for line in fin]"
   ]
  },
  {
   "cell_type": "code",
   "execution_count": 2,
   "metadata": {},
   "outputs": [
    {
     "data": {
      "text/plain": [
       "['column_headers',\n",
       " 'data',\n",
       " 'data_type',\n",
       " 'md5',\n",
       " 'region',\n",
       " 'row_headers',\n",
       " 'timestamp',\n",
       " 'url']"
      ]
     },
     "execution_count": 2,
     "metadata": {},
     "output_type": "execute_result"
    }
   ],
   "source": [
    "# Here's what it looks like. \n",
    "# Each line corresponds to a table scraped from the Central Electoral Committee website.\n",
    "# Tables are dictionaries.\n",
    "sorted(tables[0].keys())"
   ]
  },
  {
   "cell_type": "code",
   "execution_count": 3,
   "metadata": {},
   "outputs": [
    {
     "data": {
      "text/plain": [
       "Counter({'results_tik': 87,\n",
       "         'results_uik': 2776,\n",
       "         'turnout_tik': 87,\n",
       "         'turnout_uik': 2776})"
      ]
     },
     "execution_count": 3,
     "metadata": {},
     "output_type": "execute_result"
    }
   ],
   "source": [
    "#\n",
    "# There are four kinds of data.\n",
    "#     results_tik: Summary results for a territory IK (electoral committee)\n",
    "#     results_uik: Detailed results for a territory IK, showing individual polling stations\n",
    "#     turnout_tik: Sumarry of turnout for a territory IK\n",
    "#     turnout_uik: Detailed turnout for a territory IK, showing individual polling stations\n",
    "#\n",
    "import collections\n",
    "collections.Counter([t['data_type'] for t in tables])"
   ]
  },
  {
   "cell_type": "code",
   "execution_count": 4,
   "metadata": {},
   "outputs": [
    {
     "data": {
      "text/plain": [
       "'Республика Бурятия'"
      ]
     },
     "execution_count": 4,
     "metadata": {},
     "output_type": "execute_result"
    }
   ],
   "source": [
    "# region contains the name of the region.\n",
    "a_table = [t for t in tables if t[\"data_type\"] == \"results_tik\"][0]\n",
    "a_table[\"region\"]"
   ]
  },
  {
   "cell_type": "code",
   "execution_count": 5,
   "metadata": {},
   "outputs": [
    {
     "data": {
      "text/plain": [
       "'http://www.vybory.izbirkom.ru/region/region/izbirkom?action=show&root=1000004&tvd=100100084849070&vrn=100100084849062&region=0&global=true&sub_region=0&prver=0&pronetvd=null&vibid=100100084849070&type=227'"
      ]
     },
     "execution_count": 5,
     "metadata": {},
     "output_type": "execute_result"
    }
   ],
   "source": [
    "# url corresponds to the URL from which the data was scraped from\n",
    "a_table[\"url\"]"
   ]
  },
  {
   "cell_type": "code",
   "execution_count": 6,
   "metadata": {},
   "outputs": [
    {
     "data": {
      "text/plain": [
       "'2018-03-19T08:00:11.766832+00:00'"
      ]
     },
     "execution_count": 6,
     "metadata": {},
     "output_type": "execute_result"
    }
   ],
   "source": [
    "# the timestamp shows the date and time that the data was scraped\n",
    "a_table[\"timestamp\"]"
   ]
  },
  {
   "cell_type": "code",
   "execution_count": 7,
   "metadata": {},
   "outputs": [],
   "source": [
    "# md5 corresponds to the MD5 hash of the HTML that was fetched from the URL at the time of scraping\n",
    "import requests\n",
    "import hashlib\n",
    "r = requests.get(a_table[\"url\"])\n",
    "assert hashlib.md5(r.content).hexdigest() == a_table[\"md5\"], \"MD5 mismatch, perhaps data is out of date?\""
   ]
  },
  {
   "cell_type": "code",
   "execution_count": 8,
   "metadata": {},
   "outputs": [
    {
     "name": "stdout",
     "output_type": "stream",
     "text": [
      "['ВСЕГО, в том числе', 'Джейрахская', 'Карабулакская городская', 'Магасская городская', 'Малгобекская городская', 'Малгобекская', 'Назрановская городская', 'Назрановская', 'Сунженская', 'Сунженская городская']\n",
      "['10:00', '12:00', '15:00', '18:00']\n"
     ]
    }
   ],
   "source": [
    "# Each table, regardless of data_type, contains data in rows and columns.\n",
    "# The label for each row and column is contained in \"row_headers\" and \"column_headers\", respectively.\n",
    "# For turnout tables, the data looks like this:\n",
    "# The row headers in this case are the names of the local electoral committees (участковая избирательная коммиссия).\n",
    "# The column headers are the times at which turnout was reported.\n",
    "turnout_table = [t for t in tables if t[\"data_type\"] == \"turnout_tik\"][0]\n",
    "print(turnout_table[\"row_headers\"])\n",
    "print(turnout_table[\"column_headers\"])"
   ]
  },
  {
   "cell_type": "code",
   "execution_count": 9,
   "metadata": {},
   "outputs": [
    {
     "name": "stdout",
     "output_type": "stream",
     "text": [
      "['Число избирателей, включенных в список избирателей', 'Число избирательных бюллетеней, полученных участковой избирательной комиссией', 'Число избирательных бюллетеней, выданных избирателям, проголосовавшим досрочно', 'Число избирательных бюллетеней, выданных в помещении для голосования в день голосования', 'Число избирательных бюллетеней, выданных вне помещения для голосования в день голосования']\n",
      "['Сумма', 'УИК №871', 'УИК №872', 'УИК №873', 'УИК №874']\n"
     ]
    }
   ],
   "source": [
    "# For result tables, the data looks like this:\n",
    "results_table = [t for t in tables if t[\"data_type\"] == \"results_uik\"][0]\n",
    "print(results_table[\"row_headers\"][:5])  # snipped for brevity\n",
    "print(results_table[\"column_headers\"][:5]) # snipped for brevity"
   ]
  },
  {
   "cell_type": "code",
   "execution_count": 10,
   "metadata": {},
   "outputs": [
    {
     "data": {
      "text/plain": [
       "['Число избирателей, включенных в список избирателей',\n",
       " 'Число избирательных бюллетеней, полученных участковой избирательной комиссией',\n",
       " 'Число избирательных бюллетеней, выданных избирателям, проголосовавшим досрочно',\n",
       " 'Число избирательных бюллетеней, выданных в помещении для голосования в день голосования',\n",
       " 'Число избирательных бюллетеней, выданных вне помещения для голосования в день голосования',\n",
       " 'Число погашенных избирательных бюллетеней',\n",
       " 'Число избирательных бюллетеней в переносных ящиках для голосования',\n",
       " 'Число бюллетеней в стационарных ящиках для голосования',\n",
       " 'Число недействительных избирательных бюллетеней',\n",
       " 'Число действительных избирательных бюллетеней',\n",
       " 'Число утраченных избирательных бюллетеней',\n",
       " 'Число избирательных бюллетеней, не учтенных при получении',\n",
       " 'Бабурин Сергей Николаевич',\n",
       " 'Грудинин Павел Николаевич',\n",
       " 'Жириновский Владимир Вольфович',\n",
       " 'Путин Владимир Владимирович',\n",
       " 'Собчак Ксения Анатольевна',\n",
       " 'Сурайкин Максим Александрович',\n",
       " 'Титов Борис Юрьевич',\n",
       " 'Явлинский Григорий Алексеевич']"
      ]
     },
     "execution_count": 10,
     "metadata": {},
     "output_type": "execute_result"
    }
   ],
   "source": [
    "ROW_HEADERS = results_table['row_headers']\n",
    "ROW_HEADERS"
   ]
  },
  {
   "cell_type": "code",
   "execution_count": 11,
   "metadata": {},
   "outputs": [
    {
     "data": {
      "text/plain": [
       "[('Число избирателей, включенных в список избирателей',\n",
       "  'Number of eligible voters'),\n",
       " ('Число избирательных бюллетеней, полученных участковой избирательной комиссией',\n",
       "  'Number of voting forms received by the polling station'),\n",
       " ('Число избирательных бюллетеней, выданных избирателям, проголосовавшим досрочно',\n",
       "  'Number of voting forms distributed to early voters'),\n",
       " ('Число избирательных бюллетеней, выданных в помещении для голосования в день голосования',\n",
       "  'Number of voting forms distributed at the polling station on the day of the election'),\n",
       " ('Число избирательных бюллетеней, выданных вне помещения для голосования в день голосования',\n",
       "  'Number of voting forms distributed outside the polling station on the day of the election'),\n",
       " ('Число погашенных избирательных бюллетеней',\n",
       "  'Number of destroyed voting forms'),\n",
       " ('Число избирательных бюллетеней в переносных ящиках для голосования',\n",
       "  'Number of voting forms in mobile boxes'),\n",
       " ('Число бюллетеней в стационарных ящиках для голосования',\n",
       "  'Number of voting forms in stationary boxes'),\n",
       " ('Число недействительных избирательных бюллетеней',\n",
       "  'Number of invalid voting forms'),\n",
       " ('Число действительных избирательных бюллетеней',\n",
       "  'Number of valid voting forms'),\n",
       " ('Число утраченных избирательных бюллетеней', 'Number of lost voting forms'),\n",
       " ('Число избирательных бюллетеней, не учтенных при получении',\n",
       "  'Number of voting forms that were received but not counted'),\n",
       " ('Бабурин Сергей Николаевич', 'Sergey Baburin'),\n",
       " ('Грудинин Павел Николаевич', 'Pavel Grudinin'),\n",
       " ('Жириновский Владимир Вольфович', 'Vladimir Zhirinovsky'),\n",
       " ('Путин Владимир Владимирович', 'Vladimir Putin'),\n",
       " ('Собчак Ксения Анатольевна', 'Xenia Sobchak'),\n",
       " ('Сурайкин Максим Александрович', 'Maxim Suraykin'),\n",
       " ('Титов Борис Юрьевич', 'Boris Titov'),\n",
       " ('Явлинский Григорий Алексеевич', 'Grigory Yavlinsky')]"
      ]
     },
     "execution_count": 11,
     "metadata": {},
     "output_type": "execute_result"
    }
   ],
   "source": [
    "EN_ROW_HEADERS = (\n",
    "    'Number of eligible voters',\n",
    "    'Number of voting forms received by the polling station',\n",
    "    'Number of voting forms distributed to early voters',\n",
    "    'Number of voting forms distributed at the polling station on the day of the election',\n",
    "    'Number of voting forms distributed outside the polling station on the day of the election',\n",
    "    'Number of destroyed voting forms',\n",
    "    'Number of voting forms in mobile boxes',\n",
    "    'Number of voting forms in stationary boxes',\n",
    "    'Number of invalid voting forms',\n",
    "    'Number of valid voting forms',\n",
    "    'Number of lost voting forms',\n",
    "    'Number of voting forms that were received but not counted',\n",
    "    'Sergey Baburin',\n",
    "    'Pavel Grudinin',\n",
    "    'Vladimir Zhirinovsky',\n",
    "    'Vladimir Putin',\n",
    "    'Xenia Sobchak',\n",
    "    'Maxim Suraykin',\n",
    "    'Boris Titov',\n",
    "    'Grigory Yavlinsky'\n",
    ")\n",
    "assert len(EN_ROW_HEADERS) == len(ROW_HEADERS)\n",
    "list(zip(ROW_HEADERS, EN_ROW_HEADERS))"
   ]
  },
  {
   "cell_type": "code",
   "execution_count": 12,
   "metadata": {},
   "outputs": [
    {
     "name": "stdout",
     "output_type": "stream",
     "text": [
      "['Бабурин Сергей Николаевич', 'Грудинин Павел Николаевич', 'Жириновский Владимир Вольфович', 'Путин Владимир Владимирович', 'Собчак Ксения Анатольевна', 'Сурайкин Максим Александрович', 'Титов Борис Юрьевич', 'Явлинский Григорий Алексеевич']\n"
     ]
    }
   ],
   "source": [
    "# Rows correspond to a certain measurement, the columns correspond to the local electoral committees.\n",
    "# The list of candidates is the same across the entire country.\n",
    "print(results_table[\"row_headers\"][12:])  # snipped for brevity"
   ]
  },
  {
   "cell_type": "code",
   "execution_count": 13,
   "metadata": {},
   "outputs": [
    {
     "data": {
      "text/plain": [
       "['Сумма', 'УИК №871', 'УИК №872', 'УИК №873', 'УИК №874']"
      ]
     },
     "execution_count": 13,
     "metadata": {},
     "output_type": "execute_result"
    }
   ],
   "source": [
    "#\n",
    "# The *_uik tables contain the same row headers as their regular counterparts.\n",
    "# They just show finer-grained information.\n",
    "#\n",
    "uik_table = [t for t in tables if t[\"data_type\"] == \"results_uik\"][0]\n",
    "assert uik_table[\"row_headers\"] == results_table[\"row_headers\"]\n",
    "uik_table[\"column_headers\"][:5]  # snipped for brevity"
   ]
  },
  {
   "cell_type": "code",
   "execution_count": 14,
   "metadata": {},
   "outputs": [
    {
     "data": {
      "text/plain": [
       "'Хоринская'"
      ]
     },
     "execution_count": 14,
     "metadata": {},
     "output_type": "execute_result"
    }
   ],
   "source": [
    "# They also include the territory electoral committe (территориальная избирательная комиссия)\n",
    "uik_table[\"territory\"]"
   ]
  },
  {
   "cell_type": "code",
   "execution_count": 15,
   "metadata": {},
   "outputs": [
    {
     "data": {
      "text/plain": [
       "10382.0"
      ]
     },
     "execution_count": 15,
     "metadata": {},
     "output_type": "execute_result"
    }
   ],
   "source": [
    "# The data itself can be obtained by indexing into the data matrix.\n",
    "results_table[\"data\"][0][0]"
   ]
  },
  {
   "cell_type": "markdown",
   "metadata": {},
   "source": [
    "# Checking the Dataset"
   ]
  },
  {
   "cell_type": "code",
   "execution_count": 16,
   "metadata": {},
   "outputs": [
    {
     "data": {
      "text/plain": [
       "Counter({'results_tik': 87,\n",
       "         'results_uik': 2776,\n",
       "         'turnout_tik': 87,\n",
       "         'turnout_uik': 2776})"
      ]
     },
     "execution_count": 16,
     "metadata": {},
     "output_type": "execute_result"
    }
   ],
   "source": [
    "# Make sure we have complete data for each\n",
    "counter = collections.Counter(table[\"data_type\"] for table in tables)\n",
    "counter"
   ]
  },
  {
   "cell_type": "markdown",
   "metadata": {},
   "source": [
    "# Summary"
   ]
  },
  {
   "cell_type": "code",
   "execution_count": 17,
   "metadata": {},
   "outputs": [
    {
     "name": "stdout",
     "output_type": "stream",
     "text": [
      "region|oik|tik|uik\r\n",
      "Алтайский край|1|74|1831\r\n",
      "Амурская область|1|29|772\r\n",
      "Архангельская область|1|31|948\r\n",
      "Астраханская область|1|16|579\r\n",
      "Белгородская область|1|22|1263\r\n",
      "Брянская область|1|34|1113\r\n",
      "Владимирская область|1|23|984\r\n",
      "Волгоградская область|1|46|1539\r\n",
      "Вологодская область|1|28|1000\r\n",
      "Воронежская область|1|39|1717\r\n",
      "Город Байконур (Республика Казахстан)|1|0|0\r\n",
      "Еврейская автономная область|1|6|184\r\n",
      "Забайкальский край|1|38|942\r\n",
      "Ивановская область|1|30|783\r\n",
      "Иркутская область|1|45|1914\r\n",
      "Кабардино-Балкарская Республика|1|13|354\r\n",
      "Калининградская область|1|24|0\r\n",
      "Калужская область|1|28|732\r\n",
      "Камчатский край|1|14|317\r\n",
      "Карачаево-Черкесская Республика|1|12|251\r\n",
      "Кемеровская область|1|46|1750\r\n",
      "Кировская область|1|48|1178\r\n",
      "Костромская область|1|31|600\r\n",
      "Краснодарский край|1|60|2791\r\n",
      "Красноярский край|1|70|2202\r\n",
      "Курганская область|1|27|994\r\n",
      "Курская область|1|35|1163\r\n",
      "Ленинградская область|1|18|985\r\n",
      "Липецкая область|1|24|911\r\n",
      "Магаданская область|1|10|104\r\n",
      "Московская область|1|73|4238\r\n",
      "Мурманская область|1|17|596\r\n",
      "Ненецкий автономный округ|1|2|51\r\n",
      "Нижегородская область|1|61|2264\r\n",
      "Новгородская область|1|22|544\r\n",
      "Новосибирская область|1|44|2029\r\n",
      "Омская область|1|37|1790\r\n",
      "Оренбургская область|1|47|1754\r\n",
      "Орловская область|1|30|730\r\n",
      "Пензенская область|1|33|1102\r\n",
      "Пермский край|1|55|1844\r\n",
      "Приморский край|1|38|1580\r\n",
      "Псковская область|1|26|638\r\n",
      "Республика Адыгея (Адыгея)|1|9|264\r\n",
      "Республика Алтай|1|11|242\r\n",
      "Республика Башкортостан|1|69|3436\r\n",
      "Республика Бурятия|1|25|841\r\n",
      "Республика Дагестан|1|54|1914\r\n",
      "Республика Ингушетия|1|9|137\r\n",
      "Республика Калмыкия|1|14|251\r\n",
      "Республика Карелия|1|19|470\r\n",
      "Республика Коми|1|21|660\r\n",
      "Республика Крым|1|27|0\r\n",
      "Республика Марий Эл|1|18|530\r\n",
      "Республика Мордовия|1|25|0\r\n",
      "Республика Саха (Якутия)|1|35|806\r\n",
      "Республика Северная Осетия - Алания|1|10|351\r\n",
      "Республика Татарстан (Татарстан)|1|65|2817\r\n",
      "Республика Тыва|1|19|183\r\n",
      "Республика Хакасия|1|13|391\r\n",
      "Ростовская область|1|62|2627\r\n",
      "Рязанская область|1|32|1027\r\n",
      "Самарская область|1|47|1789\r\n",
      "Саратовская область|1|47|1891\r\n",
      "Сахалинская область|1|20|482\r\n",
      "Свердловская область|1|80|2541\r\n",
      "Смоленская область|1|29|803\r\n",
      "Ставропольский край|1|36|1294\r\n",
      "Тамбовская область|1|32|926\r\n",
      "Тверская область|1|46|1218\r\n",
      "Территория за пределами РФ|1|0|0\r\n",
      "Томская область|1|23|778\r\n",
      "Тульская область|1|29|1136\r\n",
      "Тюменская область|1|29|1130\r\n",
      "Удмуртская Республика|1|34|1204\r\n",
      "Ульяновская область|1|29|989\r\n",
      "Хабаровский край|1|23|854\r\n",
      "Ханты-Мансийский автономный округ - Югра|1|22|0\r\n",
      "Челябинская область|1|51|2305\r\n",
      "Чеченская Республика|1|20|0\r\n",
      "Чувашская Республика - Чувашия|1|28|1177\r\n",
      "Чукотский автономный округ|1|7|55\r\n",
      "Ямало-Ненецкий автономный округ|1|13|228\r\n",
      "Ярославская область|1|26|0\r\n",
      "город Москва|1|128|3617\r\n",
      "город Санкт-Петербург|1|30|2052\r\n",
      "город Севастополь|1|4|0\r\n"
     ]
    }
   ],
   "source": [
    "# The number of OIK (region electoral committees), TIK (territory electoral committees),\n",
    "# and UIK (spot electoral committees) per region\n",
    "import csv\n",
    "import sys\n",
    "\n",
    "writer = csv.writer(sys.stdout, delimiter=\"|\")\n",
    "writer.writerow([\"region\", \"oik\", \"tik\", \"uik\"])\n",
    "\n",
    "results = [t for t in tables if t[\"data_type\"] == \"results_tik\"]\n",
    "results_uik = [t for t in tables if t[\"data_type\"] == \"results_uik\"]\n",
    "oik_counter = collections.Counter(t[\"region\"] for t in results)\n",
    "\n",
    "for region, num_oik in sorted(oik_counter.items()):\n",
    "    region_tables = [t for t in results if t[\"region\"] == region]\n",
    "    num_tik = sum([(len(t[\"column_headers\"]) - 1) for t in region_tables])\n",
    "    \n",
    "    region_tables_uik = [t for t in results_uik if t[\"region\"] == region]\n",
    "    num_uik = sum([(len(t[\"column_headers\"]) - 1) for t in region_tables_uik])\n",
    "    \n",
    "    writer.writerow([region, num_oik, num_tik, num_uik])"
   ]
  },
  {
   "cell_type": "markdown",
   "metadata": {},
   "source": [
    "# Grouping results and turnout by polling station\n",
    "\n",
    "This format of the data may be easier to work with for some applications."
   ]
  },
  {
   "cell_type": "code",
   "execution_count": 18,
   "metadata": {},
   "outputs": [],
   "source": [
    "def yield_turnout():\n",
    "    turnout = [t for t in tables if t['data_type'] == 'turnout_uik']\n",
    "    for table in turnout:\n",
    "        for i, (header, row) in enumerate(zip(table['row_headers'], table['data'])):\n",
    "            if i == 0:\n",
    "                # skip total row\n",
    "                continue\n",
    "            yield {'region': table['region'], 'territory': table['territory'],\n",
    "                   'polling_station': header, 'turnout': row}\n",
    "                \n",
    "\n",
    "turnout_dict = {}\n",
    "for d in yield_turnout():\n",
    "    key = (d['region'], d['territory'], d['polling_station'])\n",
    "    turnout_dict[key] = d['turnout']"
   ]
  },
  {
   "cell_type": "code",
   "execution_count": 19,
   "metadata": {},
   "outputs": [
    {
     "data": {
      "text/plain": [
       "(('Республика Алтай', 'Чемальская', 'УИК №181'), [10.03, 28.44, 45.79, 58.82])"
      ]
     },
     "execution_count": 19,
     "metadata": {},
     "output_type": "execute_result"
    }
   ],
   "source": [
    "TIMES = ['10:00', '12:00', '15:00', '18:00']\n",
    "list(turnout_dict.items())[0]"
   ]
  },
  {
   "cell_type": "code",
   "execution_count": 20,
   "metadata": {},
   "outputs": [
    {
     "data": {
      "text/plain": [
       "{'polling_station': 'УИК №872',\n",
       " 'region': 'Республика Бурятия',\n",
       " 'results': {'Бабурин Сергей Николаевич': 0.0,\n",
       "  'Грудинин Павел Николаевич': 10.0,\n",
       "  'Жириновский Владимир Вольфович': 1.0,\n",
       "  'Путин Владимир Владимирович': 111.0,\n",
       "  'Собчак Ксения Анатольевна': 7.0,\n",
       "  'Сурайкин Максим Александрович': 0.0,\n",
       "  'Титов Борис Юрьевич': 0.0,\n",
       "  'Число бюллетеней в стационарных ящиках для голосования': 128.0,\n",
       "  'Число действительных избирательных бюллетеней': 132.0,\n",
       "  'Число избирателей, включенных в список избирателей': 133.0,\n",
       "  'Число избирательных бюллетеней в переносных ящиках для голосования': 5.0,\n",
       "  'Число избирательных бюллетеней, выданных в помещении для голосования в день голосования': 128.0,\n",
       "  'Число избирательных бюллетеней, выданных вне помещения для голосования в день голосования': 5.0,\n",
       "  'Число избирательных бюллетеней, выданных избирателям, проголосовавшим досрочно': 0.0,\n",
       "  'Число избирательных бюллетеней, не учтенных при получении': 0.0,\n",
       "  'Число избирательных бюллетеней, полученных участковой избирательной комиссией': 156.0,\n",
       "  'Число недействительных избирательных бюллетеней': 1.0,\n",
       "  'Число погашенных избирательных бюллетеней': 23.0,\n",
       "  'Число утраченных избирательных бюллетеней': 0.0,\n",
       "  'Явлинский Григорий Алексеевич': 3.0},\n",
       " 'territory': 'Хоринская',\n",
       " 'turnout': [23.38, 61.69, 73.38, 79.87]}"
      ]
     },
     "execution_count": 20,
     "metadata": {},
     "output_type": "execute_result"
    }
   ],
   "source": [
    "def yield_grouped():\n",
    "    results = [t for t in tables if t['data_type'] == 'results_uik']\n",
    "    for table in results:\n",
    "        assert table['row_headers'] == ROW_HEADERS\n",
    "        for column_number, column_name in enumerate(table['column_headers']):\n",
    "            if column_number == 0:\n",
    "                continue\n",
    "            key = (table['region'], table['territory'], column_name)\n",
    "            results = {dim: table['data'][row_number][column_number]\n",
    "                       for (row_number, dim) in enumerate(ROW_HEADERS)}\n",
    "            yield {\n",
    "                'region': table['region'], 'territory': table['territory'],\n",
    "                'polling_station': column_name, 'turnout': turnout_dict[key],\n",
    "                'results': results\n",
    "            }\n",
    "            \n",
    "grouped = list(yield_grouped())\n",
    "grouped[1]"
   ]
  }
 ],
 "metadata": {
  "kernelspec": {
   "display_name": "Python 3",
   "language": "python",
   "name": "python3"
  },
  "language_info": {
   "codemirror_mode": {
    "name": "ipython",
    "version": 3
   },
   "file_extension": ".py",
   "mimetype": "text/x-python",
   "name": "python",
   "nbconvert_exporter": "python",
   "pygments_lexer": "ipython3",
   "version": "3.6.4"
  }
 },
 "nbformat": 4,
 "nbformat_minor": 2
}
