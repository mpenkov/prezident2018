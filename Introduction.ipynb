{
 "cells": [
  {
   "cell_type": "markdown",
   "metadata": {},
   "source": [
    "# Introducing the Dataset"
   ]
  },
  {
   "cell_type": "code",
   "execution_count": 1,
   "metadata": {},
   "outputs": [],
   "source": [
    "# Some initialization magic\n",
    "%matplotlib inline\n",
    "\n",
    "import matplotlib\n",
    "import numpy as np\n",
    "import matplotlib.pyplot as plt\n",
    "import collections\n",
    "\n",
    "# Let's load up the data\n",
    "import json\n",
    "\n",
    "with open(\"scrapyproject/results.json\") as fin:\n",
    "    tables = [json.loads(line) for line in fin]"
   ]
  },
  {
   "cell_type": "code",
   "execution_count": 2,
   "metadata": {},
   "outputs": [
    {
     "data": {
      "text/plain": [
       "['column_headers',\n",
       " 'data',\n",
       " 'data_type',\n",
       " 'md5',\n",
       " 'region',\n",
       " 'region_ik',\n",
       " 'region_ik_long',\n",
       " 'row_headers',\n",
       " 'timestamp',\n",
       " 'url']"
      ]
     },
     "execution_count": 2,
     "metadata": {},
     "output_type": "execute_result"
    }
   ],
   "source": [
    "# Here's what it looks like. \n",
    "# Each line corresponds to a table scraped from the Central Electoral Committee website.\n",
    "# Tables are dictionaries.\n",
    "sorted(tables[0].keys())"
   ]
  },
  {
   "cell_type": "code",
   "execution_count": 3,
   "metadata": {},
   "outputs": [
    {
     "data": {
      "text/plain": [
       "Counter({'results_tik': 87,\n",
       "         'results_uik': 2762,\n",
       "         'turnout_tik': 86,\n",
       "         'turnout_uik': 2753})"
      ]
     },
     "execution_count": 3,
     "metadata": {},
     "output_type": "execute_result"
    }
   ],
   "source": [
    "#\n",
    "# There are four kinds of data.\n",
    "#     results_tik: Results for a territory IK (electoral committee)\n",
    "#     results_uik: Results for an individual polling station\n",
    "#     turnout_tik: Turnout for a territory IK\n",
    "#     turnout_uik: Turnout for an individual polling station\n",
    "#\n",
    "import collections\n",
    "collections.Counter([t['data_type'] for t in tables])"
   ]
  },
  {
   "cell_type": "code",
   "execution_count": 4,
   "metadata": {},
   "outputs": [
    {
     "data": {
      "text/plain": [
       "'Республика Адыгея (Адыгея)'"
      ]
     },
     "execution_count": 4,
     "metadata": {},
     "output_type": "execute_result"
    }
   ],
   "source": [
    "# region contains the name of the region.\n",
    "a_table = [t for t in tables if t[\"data_type\"] == \"results_tik\"][0]\n",
    "a_table[\"region\"]"
   ]
  },
  {
   "cell_type": "code",
   "execution_count": 5,
   "metadata": {},
   "outputs": [
    {
     "data": {
      "text/plain": [
       "''"
      ]
     },
     "execution_count": 5,
     "metadata": {},
     "output_type": "execute_result"
    }
   ],
   "source": [
    "# region_ik contains the number of the regional election committee (окружная избирательная коммиссия).\n",
    "# TODO: why is this empty?\n",
    "a_table[\"region_ik\"]"
   ]
  },
  {
   "cell_type": "code",
   "execution_count": 6,
   "metadata": {},
   "outputs": [
    {
     "data": {
      "text/plain": [
       "'Республика Адыгея (Адыгея)'"
      ]
     },
     "execution_count": 6,
     "metadata": {},
     "output_type": "execute_result"
    }
   ],
   "source": [
    "# region_ik_long is the full name of the local election committee\n",
    "a_table[\"region_ik_long\"]"
   ]
  },
  {
   "cell_type": "code",
   "execution_count": 7,
   "metadata": {},
   "outputs": [
    {
     "data": {
      "text/plain": [
       "'http://www.vybory.izbirkom.ru/region/region/izbirkom?action=show&root=1000022&tvd=100100031793851&vrn=100100031793505&region=0&global=true&sub_region=0&prver=0&pronetvd=null&vibid=100100031793851&type=227'"
      ]
     },
     "execution_count": 7,
     "metadata": {},
     "output_type": "execute_result"
    }
   ],
   "source": [
    "# url corresponds to the URL from which the data was scraped from\n",
    "a_table[\"url\"]"
   ]
  },
  {
   "cell_type": "code",
   "execution_count": 8,
   "metadata": {},
   "outputs": [
    {
     "data": {
      "text/plain": [
       "'2018-03-11T10:21:07.509412+00:00'"
      ]
     },
     "execution_count": 8,
     "metadata": {},
     "output_type": "execute_result"
    }
   ],
   "source": [
    "# the timestamp shows the date and time that the data was scraped\n",
    "a_table[\"timestamp\"]"
   ]
  },
  {
   "cell_type": "code",
   "execution_count": 9,
   "metadata": {},
   "outputs": [],
   "source": [
    "# md5 corresponds to the MD5 hash of the HTML that was fetched from the URL at the time of scraping\n",
    "import requests\n",
    "import hashlib\n",
    "r = requests.get(a_table[\"url\"])\n",
    "assert hashlib.md5(r.content).hexdigest() == a_table[\"md5\"], \"MD5 mismatch, perhaps data is out of date?\""
   ]
  },
  {
   "cell_type": "code",
   "execution_count": 10,
   "metadata": {},
   "outputs": [
    {
     "name": "stdout",
     "output_type": "stream",
     "text": [
      "['ВСЕГО, в том числе', 'Адыгейская', 'Гиагинская', 'Кошехабльская', 'Красногвардейская', 'Майкопская районная', 'Майкопская городская', 'Тахтамукайская', 'Теучежская', 'Шовгеновская']\n",
      "['10:00', '12:00', '15:00', '18:00']\n"
     ]
    }
   ],
   "source": [
    "# Each table, regardless of data_type, contains data in rows and columns.\n",
    "# The label for each row and column is contained in \"row_headers\" and \"column_headers\", respectively.\n",
    "# For turnout tables, the data looks like this:\n",
    "# The row headers in this case are the names of the local electoral committees (участковая избирательная коммиссия).\n",
    "# The column headers are the times at which turnout was reported.\n",
    "turnout_table = [t for t in tables if t[\"data_type\"] == \"turnout_tik\"][0]\n",
    "print(turnout_table[\"row_headers\"])\n",
    "print(turnout_table[\"column_headers\"])"
   ]
  },
  {
   "cell_type": "code",
   "execution_count": 11,
   "metadata": {},
   "outputs": [
    {
     "name": "stdout",
     "output_type": "stream",
     "text": [
      "['Число избирателей, включенных в список избирателей', 'Число избирательных бюллетеней, полученных участковой избирательной комиссией', 'Число избирательных бюллетеней, выданных избирателям, проголосовавшим досрочно', 'Число избирательных бюллетеней, выданных в помещении для голосования в день голосования', 'Число избирательных бюллетеней, выданных вне помещения для голосования в день голосования']\n",
      "['Сумма', 'УИК №186', 'УИК №187', 'УИК №188', 'УИК №189']\n"
     ]
    }
   ],
   "source": [
    "# For result tables, the data looks like this:\n",
    "results_table = [t for t in tables if t[\"data_type\"] == \"results_uik\"][0]\n",
    "print(results_table[\"row_headers\"][:5])  # snipped for brevity\n",
    "print(results_table[\"column_headers\"][:5]) # snipped for brevity"
   ]
  },
  {
   "cell_type": "code",
   "execution_count": 12,
   "metadata": {},
   "outputs": [
    {
     "name": "stdout",
     "output_type": "stream",
     "text": [
      "['Жириновский Владимир Вольфович', 'Зюганов Геннадий Андреевич', 'Миронов Сергей Михайлович', 'Прохоров Михаил Дмитриевич', 'Путин Владимир Владимирович']\n"
     ]
    }
   ],
   "source": [
    "# Rows correspond to a certain measurement, the columns correspond to the local electoral committees.\n",
    "# The list of candidates is the same across the entire country.\n",
    "print(results_table[\"row_headers\"][18:24])  # snipped for brevity"
   ]
  },
  {
   "cell_type": "code",
   "execution_count": 13,
   "metadata": {},
   "outputs": [
    {
     "data": {
      "text/plain": [
       "['Сумма', 'УИК №186', 'УИК №187', 'УИК №188', 'УИК №189']"
      ]
     },
     "execution_count": 13,
     "metadata": {},
     "output_type": "execute_result"
    }
   ],
   "source": [
    "#\n",
    "# The *_uik tables contain the same row headers as their regular counterparts.\n",
    "# They just show finer-grained information.\n",
    "#\n",
    "uik_table = [t for t in tables if t[\"data_type\"] == \"results_uik\"][0]\n",
    "assert uik_table[\"row_headers\"] == results_table[\"row_headers\"]\n",
    "uik_table[\"column_headers\"][:5]  # snipped for brevity"
   ]
  },
  {
   "cell_type": "code",
   "execution_count": 14,
   "metadata": {},
   "outputs": [
    {
     "data": {
      "text/plain": [
       "''"
      ]
     },
     "execution_count": 14,
     "metadata": {},
     "output_type": "execute_result"
    }
   ],
   "source": [
    "# They also include the territory electoral committe (территориальная избирательная комиссия)\n",
    "# TODO: this also looks broken\n",
    "uik_table[\"territory_ik\"]"
   ]
  },
  {
   "cell_type": "code",
   "execution_count": 15,
   "metadata": {},
   "outputs": [
    {
     "data": {
      "text/plain": [
       "50984.0"
      ]
     },
     "execution_count": 15,
     "metadata": {},
     "output_type": "execute_result"
    }
   ],
   "source": [
    "# The data itself can be obtained by indexing into the data matrix.\n",
    "results_table[\"data\"][0][0]"
   ]
  },
  {
   "cell_type": "markdown",
   "metadata": {},
   "source": [
    "# Checking the Dataset"
   ]
  },
  {
   "cell_type": "code",
   "execution_count": 16,
   "metadata": {},
   "outputs": [
    {
     "data": {
      "text/plain": [
       "Counter({'results_tik': 87,\n",
       "         'results_uik': 2762,\n",
       "         'turnout_tik': 86,\n",
       "         'turnout_uik': 2753})"
      ]
     },
     "execution_count": 16,
     "metadata": {},
     "output_type": "execute_result"
    }
   ],
   "source": [
    "# Make sure we have complete data for each\n",
    "counter = collections.Counter(table[\"data_type\"] for table in tables)\n",
    "counter"
   ]
  },
  {
   "cell_type": "code",
   "execution_count": 17,
   "metadata": {},
   "outputs": [],
   "source": [
    "# TODO"
   ]
  },
  {
   "cell_type": "markdown",
   "metadata": {},
   "source": [
    "# Summary"
   ]
  },
  {
   "cell_type": "code",
   "execution_count": 18,
   "metadata": {},
   "outputs": [
    {
     "name": "stdout",
     "output_type": "stream",
     "text": [
      "region|oik|tik|uik\r\n",
      "Алтайский край|1|75|1862\r\n",
      "Амурская область|1|29|783\r\n",
      "Архангельская область|1|31|984\r\n",
      "Астраханская область|1|16|586\r\n",
      "Белгородская область|1|22|1250\r\n",
      "Брянская область|1|34|1124\r\n",
      "Владимирская область|1|23|940\r\n",
      "Волгоградская область|1|46|1653\r\n",
      "Вологодская область|1|28|1040\r\n",
      "Воронежская область|1|39|1680\r\n",
      "Город Байконур (Республика Казахстан)|1|0|0\r\n",
      "Город Москва|1|125|3386\r\n",
      "Город Санкт-Петербург|1|30|1937\r\n",
      "Еврейская автономная область|1|6|144\r\n",
      "Забайкальский край|1|38|955\r\n",
      "Ивановская область|1|30|717\r\n",
      "Иркутская область|1|45|1925\r\n",
      "Кабардино-Балкарская Республика|1|13|356\r\n",
      "Калининградская область|1|24|0\r\n",
      "Калужская область|1|28|723\r\n",
      "Камчатский край|1|14|323\r\n",
      "Карачаево-Черкесская Республика|1|12|246\r\n",
      "Кемеровская область|1|47|1718\r\n",
      "Кировская область|1|48|1211\r\n",
      "Костромская область|1|30|623\r\n",
      "Краснодарский край|1|59|2713\r\n",
      "Красноярский край|1|70|2174\r\n",
      "Курганская область|1|27|1175\r\n",
      "Курская область|1|35|1153\r\n",
      "Ленинградская область|1|18|989\r\n",
      "Липецкая область|1|23|875\r\n",
      "Магаданская область|1|10|103\r\n",
      "Московская область|1|74|3388\r\n",
      "Мурманская область|1|17|622\r\n",
      "Ненецкий автономный округ|1|2|51\r\n",
      "Нижегородская область|1|61|2331\r\n",
      "Новгородская область|1|22|545\r\n",
      "Новосибирская область|1|44|2032\r\n",
      "Омская область|1|37|1847\r\n",
      "Оренбургская область|1|49|1812\r\n",
      "Орловская область|1|30|749\r\n",
      "Пензенская область|1|33|1149\r\n",
      "Пермский край|1|54|1890\r\n",
      "Приморский край|1|38|1587\r\n",
      "Псковская область|1|26|648\r\n",
      "Республика Адыгея (Адыгея)|3|27|792\r\n",
      "Республика Алтай|1|11|242\r\n",
      "Республика Башкортостан|1|69|3509\r\n",
      "Республика Бурятия|1|25|836\r\n",
      "Республика Дагестан|1|54|1899\r\n",
      "Республика Ингушетия|1|8|130\r\n",
      "Республика Калмыкия|1|14|253\r\n",
      "Республика Карелия|1|20|543\r\n",
      "Республика Коми|1|21|660\r\n",
      "Республика Марий Эл|1|18|552\r\n",
      "Республика Мордовия|1|25|0\r\n",
      "Республика Саха (Якутия)|1|35|813\r\n",
      "Республика Северная Осетия - Алания|1|10|371\r\n",
      "Республика Татарстан (Татарстан)|1|65|2853\r\n",
      "Республика Тыва|1|19|183\r\n",
      "Республика Хакасия|1|13|395\r\n",
      "Ростовская область|1|62|2594\r\n",
      "Рязанская область|1|32|1063\r\n",
      "Самарская область|1|47|1710\r\n",
      "Саратовская область|1|47|1783\r\n",
      "Сахалинская область|1|20|445\r\n",
      "Свердловская область|1|80|2537\r\n",
      "Смоленская область|1|29|810\r\n",
      "Ставропольский край|1|37|1265\r\n",
      "Тамбовская область|1|32|952\r\n",
      "Тверская область|1|46|1259\r\n",
      "Территория за пределами РФ|1|0|0\r\n",
      "Томская область|1|23|777\r\n",
      "Тульская область|1|29|1135\r\n",
      "Тюменская область|1|29|1128\r\n",
      "Удмуртская Республика|1|34|1185\r\n",
      "Ульяновская область|1|29|993\r\n",
      "Хабаровский край|1|23|833\r\n",
      "Ханты-Мансийский автономный округ - Югра|1|22|0\r\n",
      "Челябинская область|1|51|2245\r\n",
      "Чеченская Республика|1|20|0\r\n",
      "Чувашская Республика - Чувашия|1|28|1176\r\n",
      "Чукотский автономный округ|1|7|57\r\n",
      "Ямало-Ненецкий автономный округ|1|13|211\r\n",
      "Ярославская область|1|26|0\r\n"
     ]
    }
   ],
   "source": [
    "# The number of OIK (region electoral committees), TIK (territory electoral committees),\n",
    "# and UIK (spot electoral committees) per region\n",
    "import csv\n",
    "import sys\n",
    "\n",
    "writer = csv.writer(sys.stdout, delimiter=\"|\")\n",
    "writer.writerow([\"region\", \"oik\", \"tik\", \"uik\"])\n",
    "\n",
    "results = [t for t in tables if t[\"data_type\"] == \"results_tik\"]\n",
    "results_uik = [t for t in tables if t[\"data_type\"] == \"results_uik\"]\n",
    "oik_counter = collections.Counter(t[\"region\"] for t in results)\n",
    "\n",
    "for region, num_oik in sorted(oik_counter.items()):\n",
    "    region_tables = [t for t in results if t[\"region\"] == region]\n",
    "    num_tik = sum([(len(t[\"column_headers\"]) - 1) for t in region_tables])\n",
    "    \n",
    "    region_tables_uik = [t for t in results_uik if t[\"region\"] == region]\n",
    "    num_uik = sum([(len(t[\"column_headers\"]) - 1) for t in region_tables_uik])\n",
    "    \n",
    "    writer.writerow([region, num_oik, num_tik, num_uik])"
   ]
  },
  {
   "cell_type": "code",
   "execution_count": null,
   "metadata": {},
   "outputs": [],
   "source": []
  }
 ],
 "metadata": {
  "kernelspec": {
   "display_name": "Python 3",
   "language": "python",
   "name": "python3"
  },
  "language_info": {
   "codemirror_mode": {
    "name": "ipython",
    "version": 3
   },
   "file_extension": ".py",
   "mimetype": "text/x-python",
   "name": "python",
   "nbconvert_exporter": "python",
   "pygments_lexer": "ipython3",
   "version": "3.6.4"
  }
 },
 "nbformat": 4,
 "nbformat_minor": 2
}
